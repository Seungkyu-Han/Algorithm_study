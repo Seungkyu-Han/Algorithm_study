{
 "cells": [
  {
   "cell_type": "markdown",
   "metadata": {},
   "source": [
    "## 최소 신장 트리의 이해"
   ]
  },
  {
   "cell_type": "markdown",
   "metadata": {},
   "source": [
    "### 1. 신장 트리란?\n",
    "- Spanning Tree, 또는 신장 트리라고 불리움\n",
    "- 원래는 그래프의 모든 노드가 연결되어 있으면서 트리의 속성을 만족하는 그래프\n",
    "- 신장 트리의 조건\n",
    "    - 본래의 그래피의 모든 노드를 포함해야 함\n",
    "    - 모든 노드가 서로 연결\n",
    "    - 트리의 속성을 만족시킴(사이클이 존재하지 않음)"
   ]
  },
  {
   "cell_type": "markdown",
   "metadata": {},
   "source": [
    "### 2. 최소 신장 트리 알고리즘\n",
    "- 그래프에서 최소 신장 트리를 찾을 수 있는 알고리즘이 존재함\n",
    "- 대표적인 최소 신장 트리 알고리즘\n",
    "    - Kruskal's algorithm(크루스칼 알고리즘), Prim's algorithm(프림 알고리즘)"
   ]
  },
  {
   "cell_type": "markdown",
   "metadata": {},
   "source": [
    "### 3. 크루스칼 알고리즘\n",
    "1. 모든 정점을 독립적인 집합으로 만든다.\n",
    "2. 모든 간선의 비용을 기준으로 정렬하고, 비용이 작은 간선부터 양 끝의 두 정점을 비교한다.\n",
    "3. 두 정점의 최상위 정점을 확인하고, 서로 다를 경우 두 정점을 연결한다. (사이클이 없도록 유지)\n",
    "> 탐욕 알고리즘을 기초로 하고 있음"
   ]
  },
  {
   "cell_type": "markdown",
   "metadata": {},
   "source": [
    "### 4. Union-Find 알고리즘\n",
    "- Disjoint Set을 표현 할 때 사용하는 알고리즘으로 트리 구조를 활용하는 알고리즘\n",
    "- 간단하게, 노드들 중에 연결된 노드를 찾거나, 노드들을 연결 할 때 사용\n",
    "- Disjoint Set이란\n",
    "    - 서로 중복되지 않는 부분 집합들로 나눠진 원소들에 대한 정보를 저장하고 조작하는 자료구조\n",
    "    - 공통원소가 없는 상호 베타적인 부분 집합들로 나눠진 원소들에 대한 자료구조를 의미함\n",
    "    - Disjoint Set = 서로소 집합 자료구조"
   ]
  },
  {
   "cell_type": "markdown",
   "metadata": {},
   "source": [
    "1. 초기화\n",
    "    - n 개의 원소가 개별 집합으로 여겨지도록 초기화\n",
    "\n",
    "2. Union\n",
    "    - 두 개별 집합을 하나의 집합으로 합침, 두 트리를 하나의 트리로 만듦\n",
    "\n",
    "3. Find\n",
    "    - 여러 노드가 존재 할 때, 두 개의 노드를 선택해서, 현재 두 노드가 서로 같은 그래프에 속하는지 판별하기 위해, 각 그룹의 최상단 원소를 확인"
   ]
  },
  {
   "cell_type": "markdown",
   "metadata": {},
   "source": [
    "***Union-Find 알고리즘의 고려할 점***\n",
    "- Union 순서에 따라서, 최악의 경우 링크드 리스트와 같은 형태가 될 수 있음\n",
    "- 이 때는 계산량이 O(N)이 될 수 있기 때문에, 해당 문제를 해결하기 위해, union-by-rank, path compression 기법을 사용함"
   ]
  },
  {
   "cell_type": "markdown",
   "metadata": {},
   "source": [
    "***union-by-rank 기법***\n",
    "- 각 트리에 대해 높이를 기억해두고, Union 할 때 두 트리의 높이가 다르면, 높이가 작은 트리를 높이가 큰 트리에 붙임\n",
    "- 높이가 h - 1인 두 개의 트리를 합칠 때는 한 쪽의 트리 높이를 1 증가시켜주고, 다른 쪽의 트리를 해당 트리에 붙여줌\n",
    "- 초기화시, 모든 원소는 높이가 0인 개별 집합인 상태에서 하나씩 원소를 합칠 때, union-by-rank 기법을 사용한다면\n",
    "    - 높이가 h인 트리가 만들어지려면, 높이가 h - 1인 두 개의 트리가 합쳐져야 함\n",
    "    - 높이가 h - 1인 트리를 만들기 위해 최소의 n개의 원소가 필요하다면, 높이가 h인 트리가 만들어지기 위해서는 2n개의 원소가 필요함\n",
    "    - 따라서 union-by-rank 기법을 사용하면, union/find 연산의 시간 복잡도는 O(logn)으로 낮출 수 있음"
   ]
  },
  {
   "cell_type": "markdown",
   "metadata": {},
   "source": [
    "***path compression***\n",
    "- find를 실행한 노드에서 거쳐간 노드를 루트에 다이렉트로 연결하는 기법\n",
    "- find를 실행한 노드는 이후부터는 루트 노드를 한 번에 알 수 있음"
   ]
  },
  {
   "cell_type": "code",
   "execution_count": 1,
   "metadata": {},
   "outputs": [],
   "source": [
    "graph = {\n",
    "    'vertices': ['A', 'B', 'C', 'D', 'E', 'F', 'G'],\n",
    "    'edges': [\n",
    "        (7, 'A', 'B'),\n",
    "        (5, 'A', 'D'),\n",
    "        (8, 'B', 'C'),\n",
    "        (9, 'B', 'D'),\n",
    "        (7, 'B', 'E'),\n",
    "        (5, 'C', 'E'),\n",
    "        (7, 'D', 'E'),\n",
    "        (6, 'D', 'F'),\n",
    "        (8, 'E', 'F'),\n",
    "        (9, 'E', 'G'),\n",
    "        (11, 'F', 'G')\n",
    "    ]\n",
    "}"
   ]
  },
  {
   "cell_type": "code",
   "execution_count": 2,
   "metadata": {},
   "outputs": [],
   "source": [
    "parent = dict()\n",
    "rank = dict()\n",
    "\n",
    "def make_set(node):\n",
    "    parent[node] = node\n",
    "    rank[node] = 0\n",
    "\n",
    "def find(node):\n",
    "    if parent[node] != node:\n",
    "        parent[node] = find(parent[node])\n",
    "    return parent[node]\n",
    "\n",
    "\n",
    "def union(node_v, node_u):\n",
    "\n",
    "    root1 = find(node_v)\n",
    "    root2 = find(node_u)\n",
    "\n",
    "    if rank[root1] > rank[root2]:\n",
    "        parent[root2] = root1\n",
    "    elif rank[root2] > rank[root1]:\n",
    "        parent[root1] = root2\n",
    "    else:\n",
    "        rank[root2] += 1\n",
    "        parent[root1] = root2\n",
    "\n",
    "def kruskal(graph):\n",
    "    mst = list()\n",
    "\n",
    "    # 1. 초기화\n",
    "    for node in graph['vertices']:\n",
    "        make_set(node)\n",
    "\n",
    "    # 2. edge를 sorting\n",
    "    edges = graph['edges']\n",
    "    edges.sort()\n",
    "\n",
    "    # 3. 사이클이 생기지 않도록 연결\n",
    "    for edge in edges:\n",
    "        weight, node_v, node_u = edge\n",
    "\n",
    "        if find(node_v) != find(node_u):\n",
    "            union(node_v, node_u)\n",
    "            mst.append(edge)\n",
    "    \n",
    "    return mst"
   ]
  },
  {
   "cell_type": "code",
   "execution_count": 3,
   "metadata": {},
   "outputs": [
    {
     "data": {
      "text/plain": [
       "[(5, 'A', 'D'),\n",
       " (5, 'C', 'E'),\n",
       " (6, 'D', 'F'),\n",
       " (7, 'A', 'B'),\n",
       " (7, 'B', 'E'),\n",
       " (9, 'E', 'G')]"
      ]
     },
     "execution_count": 3,
     "metadata": {},
     "output_type": "execute_result"
    }
   ],
   "source": [
    "kruskal(graph)"
   ]
  }
 ],
 "metadata": {
  "kernelspec": {
   "display_name": "Python 3",
   "language": "python",
   "name": "python3"
  },
  "language_info": {
   "codemirror_mode": {
    "name": "ipython",
    "version": 3
   },
   "file_extension": ".py",
   "mimetype": "text/x-python",
   "name": "python",
   "nbconvert_exporter": "python",
   "pygments_lexer": "ipython3",
   "version": "3.10.2"
  }
 },
 "nbformat": 4,
 "nbformat_minor": 2
}
