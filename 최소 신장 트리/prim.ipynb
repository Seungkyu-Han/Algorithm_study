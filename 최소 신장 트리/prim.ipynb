{
 "cells": [
  {
   "cell_type": "markdown",
   "metadata": {},
   "source": [
    "### 1. 프림 알고리즘 (Prim's algorithm)\n",
    "- 대표적인 최소 신장 트리 알고리즘\n",
    "    - Kruskal's algorithm(크루스칼 알고리즘), Prim's algorithm(프림 알고리즘)\n",
    "- 프림 알고리즘\n",
    "    - 시작 정점을 선택하고, 정점에 인접한 간선 중 최소 간선으로 연결된 정점을 선택하고, 해당 정점에서 다시 최소 간선으로 연결된 정점을 선택하는 방식으로 최소 신장 트리를 확장해가는 방식\n",
    "- Kruskal's algorithm과 Prim's algorithm의 비교\n",
    "    - 둘 다 탐욕 알고리즘을 기초로 하고 있음\n",
    "    - Kruskal's algorithm은 가중치가 가장 작은 간선부터 선택, Prim's는 특정 정점에서 시작하여 해당 정점에 연결된 가장 가중치가 작은 간선을 선택하는 방식으로 MST를 구함"
   ]
  },
  {
   "cell_type": "markdown",
   "metadata": {},
   "source": [
    "### 프림 알고리즘 파이썬 코드\n",
    "\n",
    "1. 모든 간선 정보를 저장 (adjacent_edges)\n",
    "2. 임의의 정점을 선택, '연결된 노드 집합(connected_nodes)'에 삽입\n",
    "3. 선택된 정점에 연결된 간선들을 간선 리스트(candidate_edge_list)에 삽입\n",
    "4. 간선 리스트(candidate)에서 최소 가중치를 가지는 간선부터 추출해서\n",
    "    - 해당 간선에 연결된 인접 정점이 '연결된 노드 집합'에 이미 들어있다면, 스킵합(Cycle 발생을 막기 위해)\n",
    "    - 해당 간선에 연결된 인접 정점이 '연결된 노드 집합'에 들어있지 않다면, 해당 단선을 선택하고, 해당 간선 정보를 'mst'에 삽입\n",
    "5. 선택된 간선은 간선 리스트에서 제거\n",
    "6. 간선 리스트에서 간선이 없을 때까지 4~5번을 반복"
   ]
  },
  {
   "cell_type": "code",
   "execution_count": 1,
   "metadata": {},
   "outputs": [],
   "source": [
    "cur_edges = [\n",
    "    (7, 'A', 'B'),\n",
    "    (5, 'A', 'D'),\n",
    "    (8, 'B', 'C'),\n",
    "    (9, 'B', 'D'),\n",
    "    (7, 'B', 'E'),\n",
    "    (5, 'C', 'E'),\n",
    "    (7, 'D', 'E'),\n",
    "    (6, 'D', 'F'),\n",
    "    (8, 'E', 'F'),\n",
    "    (9, 'E', 'G'),\n",
    "    (11, 'F', 'G')\n",
    "]"
   ]
  },
  {
   "cell_type": "code",
   "execution_count": 2,
   "metadata": {},
   "outputs": [],
   "source": [
    "from collections import defaultdict\n",
    "import heapq\n",
    "\n",
    "def prim(start_node, edges):\n",
    "    mst = []\n",
    "\n",
    "    adjacent_edges = defaultdict(list)\n",
    "\n",
    "    for weight, v, u in edges:\n",
    "        adjacent_edges[v].append((weight, v, u))\n",
    "        adjacent_edges[u].append((weight, u, v))\n",
    "\n",
    "    connected_nodes = set(start_node)\n",
    "\n",
    "    candidate_edge_list = adjacent_edges[start_node]\n",
    "    heapq.heapify(candidate_edge_list)\n",
    "\n",
    "    while candidate_edge_list:\n",
    "\n",
    "        weight, v, u = heapq.heappop(candidate_edge_list)\n",
    "\n",
    "        if u not in connected_nodes:\n",
    "            connected_nodes.add(u)\n",
    "            mst.append((weight, u, v))\n",
    "\n",
    "            for edge in adjacent_edges[u]:\n",
    "                if edge[2] not in connected_nodes:\n",
    "                    heapq.heappush(candidate_edge_list, edge)\n",
    "\n",
    "    return mst"
   ]
  },
  {
   "cell_type": "code",
   "execution_count": 3,
   "metadata": {},
   "outputs": [
    {
     "data": {
      "text/plain": [
       "[(5, 'D', 'A'),\n",
       " (6, 'F', 'D'),\n",
       " (7, 'B', 'A'),\n",
       " (7, 'E', 'B'),\n",
       " (5, 'C', 'E'),\n",
       " (9, 'G', 'E')]"
      ]
     },
     "execution_count": 3,
     "metadata": {},
     "output_type": "execute_result"
    }
   ],
   "source": [
    "prim('A', cur_edges)"
   ]
  }
 ],
 "metadata": {
  "kernelspec": {
   "display_name": "Python 3",
   "language": "python",
   "name": "python3"
  },
  "language_info": {
   "codemirror_mode": {
    "name": "ipython",
    "version": 3
   },
   "file_extension": ".py",
   "mimetype": "text/x-python",
   "name": "python",
   "nbconvert_exporter": "python",
   "pygments_lexer": "ipython3",
   "version": "3.10.2"
  }
 },
 "nbformat": 4,
 "nbformat_minor": 2
}
