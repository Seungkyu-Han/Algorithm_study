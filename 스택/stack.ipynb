{
 "cells": [
  {
   "cell_type": "markdown",
   "metadata": {},
   "source": [
    "## 필수 자료 구조: 스택(Stack)\n",
    "- 데이터를 제한적으로 접근할 수 있는 구조\n",
    "    - 한쪽 끝에서만 자료를 넣거나 뺄 수 있는 구조\n",
    "- 가장 나중에 쌓은 데이터를 가장 먼저 빼낼 수 있는 데이터구조"
   ]
  },
  {
   "cell_type": "markdown",
   "metadata": {},
   "source": [
    "## 1. 스택 구조\n",
    "- 스택은 LIFO(Last-In, First-Out) 데이터 관리 방식을 따름\n",
    "- 대표적인 스택의 활용\n",
    "    - 컴퓨터 내부의 프로세스(함수 콜) 동작 방식\n",
    "- 주요 기능\n",
    "    - push(): 데이터를 스택에 삽입\n",
    "    - pop(): 데이터를 스택에서 꺼내기"
   ]
  },
  {
   "cell_type": "markdown",
   "metadata": {},
   "source": [
    "## 2. 자료 구조 스택의 장단점\n",
    "- 장점\n",
    "    - 구조가 단순해서, 구현이 쉽다\n",
    "    - 데이터 저장/읽기 속도가 빠르다\n",
    "- 단점\n",
    "    - 데이터의 최대 갯수를 미리 정해야 한다\n",
    "    - 저장 공간을 미리 확보하기에 메모리에 낭비가 발생 할 수 있다."
   ]
  },
  {
   "cell_type": "markdown",
   "metadata": {},
   "source": [
    "## 3. 파이썬 리스트 기능에서 제공하는 메서드로 스택 사용해보기\n",
    "- 파이썬은 append(push), pop 메서드를 제공"
   ]
  },
  {
   "cell_type": "code",
   "execution_count": 1,
   "metadata": {},
   "outputs": [],
   "source": [
    "data_stack = list()\n",
    "\n",
    "data_stack.append(1)\n",
    "data_stack.append(2)"
   ]
  },
  {
   "cell_type": "code",
   "execution_count": 2,
   "metadata": {},
   "outputs": [
    {
     "data": {
      "text/plain": [
       "[1, 2]"
      ]
     },
     "execution_count": 2,
     "metadata": {},
     "output_type": "execute_result"
    }
   ],
   "source": [
    "data_stack"
   ]
  },
  {
   "cell_type": "code",
   "execution_count": 3,
   "metadata": {},
   "outputs": [
    {
     "data": {
      "text/plain": [
       "2"
      ]
     },
     "execution_count": 3,
     "metadata": {},
     "output_type": "execute_result"
    }
   ],
   "source": [
    "data_stack.pop()"
   ]
  },
  {
   "cell_type": "markdown",
   "metadata": {},
   "source": [
    "## 4. 프로그래밍 연습\n",
    "\n",
    "> 리스트 변수로 스택을 다루는 pop, push 기능 구현해보기"
   ]
  },
  {
   "cell_type": "code",
   "execution_count": 4,
   "metadata": {},
   "outputs": [],
   "source": [
    "stack_list = list()\n",
    "\n",
    "def stack_push(data):\n",
    "    stack_list.append(data)\n",
    "\n",
    "def stack_pop():\n",
    "    data = stack_list[-1]\n",
    "    del stack_list[-1]\n",
    "    return data"
   ]
  },
  {
   "cell_type": "code",
   "execution_count": 5,
   "metadata": {},
   "outputs": [],
   "source": [
    "for i in range(10):\n",
    "    stack_push(i)"
   ]
  },
  {
   "cell_type": "code",
   "execution_count": 6,
   "metadata": {},
   "outputs": [
    {
     "name": "stdout",
     "output_type": "stream",
     "text": [
      "9\n",
      "8\n",
      "7\n",
      "6\n",
      "5\n",
      "4\n",
      "3\n",
      "2\n",
      "1\n",
      "0\n"
     ]
    }
   ],
   "source": [
    "for i in range(10):\n",
    "    print(stack_pop())"
   ]
  }
 ],
 "metadata": {
  "kernelspec": {
   "display_name": "Python 3",
   "language": "python",
   "name": "python3"
  },
  "language_info": {
   "codemirror_mode": {
    "name": "ipython",
    "version": 3
   },
   "file_extension": ".py",
   "mimetype": "text/x-python",
   "name": "python",
   "nbconvert_exporter": "python",
   "pygments_lexer": "ipython3",
   "version": "3.10.2"
  }
 },
 "nbformat": 4,
 "nbformat_minor": 2
}
