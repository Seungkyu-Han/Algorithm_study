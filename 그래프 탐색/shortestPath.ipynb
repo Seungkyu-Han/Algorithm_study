{
 "cells": [
  {
   "cell_type": "markdown",
   "metadata": {},
   "source": [
    "## 최단 경로 알고리즘의 이해"
   ]
  },
  {
   "cell_type": "markdown",
   "metadata": {},
   "source": [
    "### 1. 최단 경로 문제란?\n",
    "- 최단 경로 문제란 두 노드를 잇는 가장 짧은 경로를 찾는 문제임\n",
    "- 가중치 그래프에서 간선의 가중치 합이 최소가 되도록 하는 경로를 찾는 것이 목적"
   ]
  },
  {
   "cell_type": "markdown",
   "metadata": {},
   "source": [
    "### 최단 경로 문제 종류\n",
    "1. 단일 출발 및 단일 도착 최단 경로 문제\n",
    "    - 그래프 내의 특정 노드 u에서 출발, 또다른 특정 노드 V에 도착하는 가장 짧은 경로를 찾는 문제\n",
    "2. 단일 출발 최단 경로 문제\n",
    "    - 그래프 내의 특정 노드 u와 그래프 내 다른 모든 노드 각각의 가장 짧은 경로를 찾는 문제\n",
    "3. 전체 쌍 최단 경로: 그래프 내의 모든 노드 쌍 (u, v)에 대한 최단 경로를 찾는 문제"
   ]
  },
  {
   "cell_type": "markdown",
   "metadata": {},
   "source": [
    "### 2. 최단 경로 알고리즘 - 다익스트라 알고리즘\n",
    "- 다익스트라 알고리즘은 위의 최단 경로 문제 중, 2번에 해당\n",
    "    - 하나의 정점에서 다른 모든 정점 간의 각각 가장 짧은 거리를 구하는 문제"
   ]
  },
  {
   "cell_type": "markdown",
   "metadata": {},
   "source": [
    "### 다익스트라 알고리즘 로직\n",
    "- 첫 정점을 기준으로 연결되어 있는 정점들을 추가해가며, 최단 거리를 갱신하는 기법\n",
    "- 다익스트라 알고리즘은 너비우선탐색(BFS)와 유사\n",
    "    - 첫 정점부터 각 노드간의 거리를 저장하는 배열을 만든 후, 첫 정점의 인접 노드 간의 거리부터 먼저 계산하면서, 첫 정점부터 해당 노드간의 가장 짧은 거리를 해당 배열에 업데이트\n",
    "    > 다익스트라 알고리즘의 다양한 변형 로직이 있지만, 가장 개선된 우선순위 큐를 사용하도록 함\n",
    "- 우선순위 큐를 활용한 다익스트라 알고리즘\n",
    "    - 우선순위 큐는 MinHeap 방식을 활용해서, 현재 가장 짧은 거리를 가진 노드 정보를 먼저 꺼내게 됨\n",
    "\n",
    "1) 첫 정점을 기준으로 배열을 선언하여 첫 정점에서 각 정점까지의 거리를 저장\n",
    "    - 초기에는 첫 정점의 거리는 0, 나머지는 무한대로 inf로 표현\n",
    "    - 우선순위 큐에 (첫 정점, 거리 0)만 먼저 넣음\n",
    "2) 우선순위 큐에서 노드를 꺼냄\n",
    "    - 처음에는 첫 정점만 저장되어 있기 때문에, 첫 정점이 꺼내진다.\n",
    "    - 첫 정점에 인접한 노드들 각각에 대해, 첫 정점에서 각 노드로 가는 거리와 현재 배열에 저장되어 있는 첫 정점에서 각 정점까지의 거리를 비교한다.\n",
    "    - 배열에 저장되어 있는 거리보다, 첫 정점에서 해당 노드로 가는 거리가 더 짧을 경우, 배열에 해당 노드의 거리를 업데이트 한다.\n",
    "    - 배열에 해당 노드의 거리가 업데이트 된 경우, 우선순위 큐에 넣는다.\n",
    "        - 결과적으로 너비 우선 탐색 방식과 유사하게, 첫 정점에 인접한 노드들을 순차적으로 방문하게 됨\n",
    "        - 만약 배열에 기록된 현재까지 발견된 가장 짧은 거리보다, 더 긴 거리를 가진 경우에는 해당 노드와 인접한 노드간의 거리 계산\n",
    "3) 2번의 과정을 우선순위 큐가 남아있을 동안 반복"
   ]
  },
  {
   "cell_type": "markdown",
   "metadata": {},
   "source": [
    "### 3. 다익스트라 알고리즘 구현"
   ]
  },
  {
   "cell_type": "code",
   "execution_count": 1,
   "metadata": {},
   "outputs": [],
   "source": [
    "my_graph = {\n",
    "    'A': {'B': 8, 'C': 1, 'D': 2},\n",
    "    'B': {},\n",
    "    'C': {'B': 5, 'D': 2},\n",
    "    'D': {'E': 3, 'F': 5},\n",
    "    'E': {'F': 1},\n",
    "    'F': {'A': 5}\n",
    "}"
   ]
  },
  {
   "cell_type": "code",
   "execution_count": 2,
   "metadata": {},
   "outputs": [],
   "source": [
    "import heapq\n",
    "\n",
    "def dijkstra(graph, start):\n",
    "    distances = {node: float('inf') for node in graph}\n",
    "    distances[start] = 0\n",
    "\n",
    "    queue = []\n",
    "\n",
    "    # 거리, 노드\n",
    "    heapq.heappush(queue, [0, start])\n",
    "\n",
    "    while queue:\n",
    "\n",
    "        cur_distance, cur_node = heapq.heappop(queue)\n",
    "\n",
    "        if cur_distance > distances[cur_node]:\n",
    "            continue\n",
    "            \n",
    "        for adjacent, weight in graph[cur_node].items():\n",
    "            distance = cur_distance + weight\n",
    "\n",
    "            if distance < distances[adjacent]:\n",
    "                distances[adjacent] = distance\n",
    "                heapq.heappush(queue, [distance, adjacent])\n",
    "\n",
    "    return distances"
   ]
  },
  {
   "cell_type": "code",
   "execution_count": 3,
   "metadata": {},
   "outputs": [
    {
     "data": {
      "text/plain": [
       "{'A': 0, 'B': 6, 'C': 1, 'D': 2, 'E': 5, 'F': 6}"
      ]
     },
     "execution_count": 3,
     "metadata": {},
     "output_type": "execute_result"
    }
   ],
   "source": [
    "dijkstra(my_graph, 'A')"
   ]
  }
 ],
 "metadata": {
  "kernelspec": {
   "display_name": "Python 3",
   "language": "python",
   "name": "python3"
  },
  "language_info": {
   "codemirror_mode": {
    "name": "ipython",
    "version": 3
   },
   "file_extension": ".py",
   "mimetype": "text/x-python",
   "name": "python",
   "nbconvert_exporter": "python",
   "pygments_lexer": "ipython3",
   "version": "3.10.2"
  }
 },
 "nbformat": 4,
 "nbformat_minor": 2
}
