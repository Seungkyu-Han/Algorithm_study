{
 "cells": [
  {
   "cell_type": "markdown",
   "metadata": {},
   "source": [
    "## 백트래킹 기법의 이해"
   ]
  },
  {
   "cell_type": "markdown",
   "metadata": {},
   "source": [
    "### 1. 백트래킹(backTracking)\n",
    "- 백트래킹 또는 퇴각 검색이라고 부름\n",
    "- 제약 조건 만족 문제에서 해를 찾기 위한 전략\n",
    "    - 해를 찾기 위해, 후보군에 제약 조건을 점진적으로 체크하다가, 해당 후보군이 제약 조건을 만족할 수 없다고 판단되는 즉시 backtrack하고, 바로 다른 후보군으로 넘어가 최적의 해를 찾는 기법\n",
    "- 실제 구현시, 고려할 수 있는 모든 경우의 수를 상태 공간 트리를 통해 표현\n",
    "    - 각 후보군을 DFS방식으로 확인\n",
    "    - 상태 공간 트리를 탐색하면서, 제약이 맞지 않으면 해의 후보가 될만한 곳으로 바로 넘어가서 탐색\n",
    "        - Promising: 해당 루트가 조건에 맞는지를 검사하는 기법\n",
    "        - Pruning: 조건에 맞지 않으면 포기하고 다른 루트로 돌아서서 탐색의 시간을 절약하는 기법"
   ]
  },
  {
   "cell_type": "markdown",
   "metadata": {},
   "source": [
    "### 2. N Queen 문제\n",
    "- 대표적인 백트래킹 문제\n",
    "- N x N 크기의 체스판에 N개의 퀸을 서로 공격할 수 없도록 배치하는 문제\n",
    "- 퀸은 다음과 같이 이동할 수 있으므로, 배치된 퀸 간에 공격할 수 없는 위치로 배치해야 함"
   ]
  },
  {
   "cell_type": "code",
   "execution_count": 1,
   "metadata": {},
   "outputs": [],
   "source": [
    "def is_available(candidate, cur_col):\n",
    "    cur_row = len(candidate)\n",
    "    for queen_row in range(cur_row):\n",
    "        if candidate[queen_row] == cur_col or abs(candidate[queen_row] - cur_col) == cur_row - queen_row:\n",
    "            return False\n",
    "    return True\n",
    "\n",
    "def DFS(N, cur_row, cur_candidate, final_result):\n",
    "    if cur_row == N:\n",
    "        final_result.append(cur_candidate[:])\n",
    "        return\n",
    "    for candidate_col in range(N):\n",
    "        if is_available(cur_candidate, candidate_col):\n",
    "            cur_candidate.append(candidate_col)\n",
    "            DFS(N, cur_row + 1, cur_candidate, final_result)\n",
    "            cur_candidate.pop()\n",
    "\n",
    "def solve_n_queens(N):\n",
    "    final_result = []\n",
    "    DFS(N, 0, [], final_result)\n",
    "    return final_result\n",
    "\n"
   ]
  },
  {
   "cell_type": "code",
   "execution_count": 2,
   "metadata": {},
   "outputs": [
    {
     "data": {
      "text/plain": [
       "[[1, 3, 0, 2], [2, 0, 3, 1]]"
      ]
     },
     "execution_count": 2,
     "metadata": {},
     "output_type": "execute_result"
    }
   ],
   "source": [
    "solve_n_queens(4)"
   ]
  }
 ],
 "metadata": {
  "kernelspec": {
   "display_name": "Python 3",
   "language": "python",
   "name": "python3"
  },
  "language_info": {
   "codemirror_mode": {
    "name": "ipython",
    "version": 3
   },
   "file_extension": ".py",
   "mimetype": "text/x-python",
   "name": "python",
   "nbconvert_exporter": "python",
   "pygments_lexer": "ipython3",
   "version": "3.10.2"
  }
 },
 "nbformat": 4,
 "nbformat_minor": 2
}
