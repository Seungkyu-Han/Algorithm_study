{
 "cells": [
  {
   "cell_type": "markdown",
   "metadata": {},
   "source": [
    "## 필수 자료구조3: 선택 정렬(Selection Sort)"
   ]
  },
  {
   "cell_type": "markdown",
   "metadata": {},
   "source": [
    "### 1. 선택 정렬 (Selection sort)란?\n",
    "- 다음과 같은 순서를 반복하여 정렬하는 알고리즘\n",
    "    1. 주어진 데이터 중, 최소값을 찾음\n",
    "    2. 해당 최소값을 데이터 맨 앞에 위치한 값과 교체함\n",
    "    3. 맨 앞의 위치를 뺀 나머지 데이터를 동일한 방법으로 반복함"
   ]
  },
  {
   "cell_type": "markdown",
   "metadata": {},
   "source": [
    "### 2. 코드로 만들기"
   ]
  },
  {
   "cell_type": "code",
   "execution_count": 1,
   "metadata": {},
   "outputs": [],
   "source": [
    "def selectionSort(data):\n",
    "    for stand in range(len(data) - 1):\n",
    "        min_index = stand\n",
    "        for index in range(stand + 1, len(data)):\n",
    "            if data[min_index] > data[index]:\n",
    "                min_index = index\n",
    "        data[min_index], data[stand] = data[stand], data[min_index]\n",
    "    return data"
   ]
  },
  {
   "cell_type": "code",
   "execution_count": 2,
   "metadata": {},
   "outputs": [],
   "source": [
    "import random\n",
    "\n",
    "data_list = random.sample(range(100), 10)"
   ]
  },
  {
   "cell_type": "code",
   "execution_count": 3,
   "metadata": {},
   "outputs": [
    {
     "data": {
      "text/plain": [
       "[2, 12, 13, 18, 43, 48, 61, 62, 82, 91]"
      ]
     },
     "execution_count": 3,
     "metadata": {},
     "output_type": "execute_result"
    }
   ],
   "source": [
    "selectionSort(data_list)"
   ]
  }
 ],
 "metadata": {
  "kernelspec": {
   "display_name": "Python 3",
   "language": "python",
   "name": "python3"
  },
  "language_info": {
   "codemirror_mode": {
    "name": "ipython",
    "version": 3
   },
   "file_extension": ".py",
   "mimetype": "text/x-python",
   "name": "python",
   "nbconvert_exporter": "python",
   "pygments_lexer": "ipython3",
   "version": "3.10.2"
  }
 },
 "nbformat": 4,
 "nbformat_minor": 2
}
