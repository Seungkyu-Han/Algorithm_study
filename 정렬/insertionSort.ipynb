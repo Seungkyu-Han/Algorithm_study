{
 "cells": [
  {
   "cell_type": "markdown",
   "metadata": {},
   "source": [
    "## 필수 자료구조2: 삽입 정렬 (Insertion sort)"
   ]
  },
  {
   "cell_type": "markdown",
   "metadata": {},
   "source": [
    "### 1. 삽입 정렬(Insertion sort) 란?\n",
    "- 삽입 정렬은 두번째 인덱스부터 시작\n",
    "- 해당 인덱스 앞에 있는 데이터부터 비교해서 더 작으면 B 값을 뒤 인덱스로 복사\n",
    "- 이를 key 값이 더 큰 데이터를 만날 때까지 반복, 그리고 큰 데이터를 만난 바로 뒤에 key 값을 이동"
   ]
  },
  {
   "cell_type": "markdown",
   "metadata": {},
   "source": [
    "### 2. 코드로 만들기"
   ]
  },
  {
   "cell_type": "code",
   "execution_count": null,
   "metadata": {},
   "outputs": [],
   "source": [
    "def insertionSort(data):\n",
    "    for i1 in range(len(data) - 1):\n",
    "        for i2 in range(i1 + 1, 0, -1):\n",
    "            if data[i2] < data[i2 - 1]:\n",
    "                data[i2], data[i2 - 1] = data[i2 - 1], data[i2]\n",
    "            else:\n",
    "                break"
   ]
  }
 ],
 "metadata": {
  "language_info": {
   "name": "python"
  }
 },
 "nbformat": 4,
 "nbformat_minor": 2
}
